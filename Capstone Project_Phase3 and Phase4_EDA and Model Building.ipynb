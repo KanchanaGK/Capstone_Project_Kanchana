{
 "cells": [
  {
   "cell_type": "code",
   "execution_count": 89,
   "id": "77043323",
   "metadata": {},
   "outputs": [],
   "source": [
    "import pandas as pd\n",
    "import numpy as np\n",
    "import matplotlib.pyplot as plt\n",
    "import seaborn as sns\n",
    "from sklearn.preprocessing import StandardScaler,OneHotEncoder,LabelEncoder\n",
    "from sklearn.model_selection import train_test_split\n",
    "from sklearn.tree import DecisionTreeClassifier\n",
    "from sklearn.metrics import accuracy_score, classification_report, confusion_matrix\n",
    "from sklearn.model_selection import GridSearchCV\n",
    "from sklearn.pipeline import Pipeline\n",
    "from sklearn.impute import SimpleImputer\n",
    "from sklearn.model_selection import train_test_split\n",
    "from sklearn.linear_model import LinearRegression, LogisticRegression\n",
    "from sklearn.compose import ColumnTransformer\n",
    "from sklearn.ensemble import RandomForestRegressor, GradientBoostingRegressor\n",
    "from sklearn.metrics import mean_absolute_error, mean_squared_error, r2_score\n",
    "from sklearn.ensemble import RandomForestClassifier, GradientBoostingClassifier\n",
    "from sklearn.metrics import accuracy_score, precision_score, recall_score, f1_score\n",
    "from sklearn.svm import SVR\n",
    "from sklearn.metrics import precision_score, recall_score, f1_score, confusion_matrix\n",
    "import joblib\n"
   ]
  },
  {
   "cell_type": "code",
   "execution_count": 2,
   "id": "99c08364",
   "metadata": {},
   "outputs": [
    {
     "data": {
      "text/html": [
       "<div>\n",
       "<style scoped>\n",
       "    .dataframe tbody tr th:only-of-type {\n",
       "        vertical-align: middle;\n",
       "    }\n",
       "\n",
       "    .dataframe tbody tr th {\n",
       "        vertical-align: top;\n",
       "    }\n",
       "\n",
       "    .dataframe thead th {\n",
       "        text-align: right;\n",
       "    }\n",
       "</style>\n",
       "<table border=\"1\" class=\"dataframe\">\n",
       "  <thead>\n",
       "    <tr style=\"text-align: right;\">\n",
       "      <th></th>\n",
       "      <th>Sl_No</th>\n",
       "      <th>Brand_Name</th>\n",
       "      <th>Category</th>\n",
       "      <th>Product_Type</th>\n",
       "      <th>Product_Name</th>\n",
       "      <th>Product_Code</th>\n",
       "      <th>Price</th>\n",
       "    </tr>\n",
       "  </thead>\n",
       "  <tbody>\n",
       "    <tr>\n",
       "      <th>0</th>\n",
       "      <td>1</td>\n",
       "      <td>Stop</td>\n",
       "      <td>Kids</td>\n",
       "      <td>Tops</td>\n",
       "      <td>206955264_MINT</td>\n",
       "      <td>206955264</td>\n",
       "      <td>1254</td>\n",
       "    </tr>\n",
       "    <tr>\n",
       "      <th>1</th>\n",
       "      <td>2</td>\n",
       "      <td>Intune</td>\n",
       "      <td>Kids</td>\n",
       "      <td>Cotton</td>\n",
       "      <td>A Day at the Beach Cotton T-shirt for Boys</td>\n",
       "      <td>S23K-JBTSHK041</td>\n",
       "      <td>8990</td>\n",
       "    </tr>\n",
       "    <tr>\n",
       "      <th>2</th>\n",
       "      <td>3</td>\n",
       "      <td>Life</td>\n",
       "      <td>Women</td>\n",
       "      <td>Cotton Stretch</td>\n",
       "      <td>A Line Above Knee Denim Women's Casual Wear Sk...</td>\n",
       "      <td>A22507DENSAND14</td>\n",
       "      <td>3456</td>\n",
       "    </tr>\n",
       "    <tr>\n",
       "      <th>3</th>\n",
       "      <td>4</td>\n",
       "      <td>Life</td>\n",
       "      <td>Kids</td>\n",
       "      <td>Half Sleeves</td>\n",
       "      <td>A20711GTEE204_PEACH</td>\n",
       "      <td>A20711GTEE204</td>\n",
       "      <td>8937</td>\n",
       "    </tr>\n",
       "    <tr>\n",
       "      <th>4</th>\n",
       "      <td>5</td>\n",
       "      <td>Stop</td>\n",
       "      <td>Kids</td>\n",
       "      <td>Tops</td>\n",
       "      <td>A22710DSNGTEE03_PINK</td>\n",
       "      <td>A22710DSNGTEE03</td>\n",
       "      <td>8937</td>\n",
       "    </tr>\n",
       "    <tr>\n",
       "      <th>...</th>\n",
       "      <td>...</td>\n",
       "      <td>...</td>\n",
       "      <td>...</td>\n",
       "      <td>...</td>\n",
       "      <td>...</td>\n",
       "      <td>...</td>\n",
       "      <td>...</td>\n",
       "    </tr>\n",
       "    <tr>\n",
       "      <th>5184</th>\n",
       "      <td>5185</td>\n",
       "      <td>Adidas</td>\n",
       "      <td>Men</td>\n",
       "      <td>Top</td>\n",
       "      <td>Y-3 REAL MADRID ANTHEM JACKET</td>\n",
       "      <td>HB13730</td>\n",
       "      <td>34999</td>\n",
       "    </tr>\n",
       "    <tr>\n",
       "      <th>5185</th>\n",
       "      <td>5186</td>\n",
       "      <td>Adidas</td>\n",
       "      <td>Men</td>\n",
       "      <td>Top</td>\n",
       "      <td>Y-3 REAL MADRID ANTHEM JACKET</td>\n",
       "      <td>HB14680</td>\n",
       "      <td>34999</td>\n",
       "    </tr>\n",
       "    <tr>\n",
       "      <th>5186</th>\n",
       "      <td>5187</td>\n",
       "      <td>Adidas</td>\n",
       "      <td>Men</td>\n",
       "      <td>Top</td>\n",
       "      <td>Y-3 REAL MADRID ANTHEM JACKET</td>\n",
       "      <td>HB14690</td>\n",
       "      <td>34999</td>\n",
       "    </tr>\n",
       "    <tr>\n",
       "      <th>5187</th>\n",
       "      <td>5188</td>\n",
       "      <td>Adidas</td>\n",
       "      <td>Men</td>\n",
       "      <td>Top</td>\n",
       "      <td>Y-3 REAL MADRID ANTHEM JACKET</td>\n",
       "      <td>HB9880</td>\n",
       "      <td>34999</td>\n",
       "    </tr>\n",
       "    <tr>\n",
       "      <th>5188</th>\n",
       "      <td>5189</td>\n",
       "      <td>Adidas</td>\n",
       "      <td>Men</td>\n",
       "      <td>Top</td>\n",
       "      <td>Y-3 REAL MADRID ANTHEM JACKET</td>\n",
       "      <td>HB9890</td>\n",
       "      <td>34999</td>\n",
       "    </tr>\n",
       "  </tbody>\n",
       "</table>\n",
       "<p>5189 rows × 7 columns</p>\n",
       "</div>"
      ],
      "text/plain": [
       "      Sl_No Brand_Name Category    Product_Type  \\\n",
       "0         1       Stop     Kids            Tops   \n",
       "1         2     Intune     Kids          Cotton   \n",
       "2         3       Life    Women  Cotton Stretch   \n",
       "3         4       Life     Kids    Half Sleeves   \n",
       "4         5       Stop     Kids            Tops   \n",
       "...     ...        ...      ...             ...   \n",
       "5184   5185     Adidas      Men             Top   \n",
       "5185   5186     Adidas      Men             Top   \n",
       "5186   5187     Adidas      Men             Top   \n",
       "5187   5188     Adidas      Men             Top   \n",
       "5188   5189     Adidas      Men             Top   \n",
       "\n",
       "                                           Product_Name     Product_Code  \\\n",
       "0                                        206955264_MINT        206955264   \n",
       "1            A Day at the Beach Cotton T-shirt for Boys   S23K-JBTSHK041   \n",
       "2     A Line Above Knee Denim Women's Casual Wear Sk...  A22507DENSAND14   \n",
       "3                                   A20711GTEE204_PEACH    A20711GTEE204   \n",
       "4                                  A22710DSNGTEE03_PINK  A22710DSNGTEE03   \n",
       "...                                                 ...              ...   \n",
       "5184                      Y-3 REAL MADRID ANTHEM JACKET          HB13730   \n",
       "5185                      Y-3 REAL MADRID ANTHEM JACKET          HB14680   \n",
       "5186                      Y-3 REAL MADRID ANTHEM JACKET          HB14690   \n",
       "5187                      Y-3 REAL MADRID ANTHEM JACKET           HB9880   \n",
       "5188                      Y-3 REAL MADRID ANTHEM JACKET           HB9890   \n",
       "\n",
       "      Price  \n",
       "0      1254  \n",
       "1      8990  \n",
       "2      3456  \n",
       "3      8937  \n",
       "4      8937  \n",
       "...     ...  \n",
       "5184  34999  \n",
       "5185  34999  \n",
       "5186  34999  \n",
       "5187  34999  \n",
       "5188  34999  \n",
       "\n",
       "[5189 rows x 7 columns]"
      ]
     },
     "execution_count": 2,
     "metadata": {},
     "output_type": "execute_result"
    }
   ],
   "source": [
    "Table1 = pd.read_csv(r\"C:\\Users\\User\\Desktop\\Tables\\Table1.csv\")\n",
    "Table1"
   ]
  },
  {
   "cell_type": "code",
   "execution_count": 3,
   "id": "f94b1d7b",
   "metadata": {},
   "outputs": [
    {
     "data": {
      "text/plain": [
       "Index(['Sl_No', 'Brand_Name', 'Category', 'Product_Type', 'Product_Name',\n",
       "       'Product_Code', 'Price'],\n",
       "      dtype='object')"
      ]
     },
     "execution_count": 3,
     "metadata": {},
     "output_type": "execute_result"
    }
   ],
   "source": [
    "Table1.columns"
   ]
  },
  {
   "cell_type": "code",
   "execution_count": 4,
   "id": "47f8a045",
   "metadata": {},
   "outputs": [
    {
     "data": {
      "text/html": [
       "<div>\n",
       "<style scoped>\n",
       "    .dataframe tbody tr th:only-of-type {\n",
       "        vertical-align: middle;\n",
       "    }\n",
       "\n",
       "    .dataframe tbody tr th {\n",
       "        vertical-align: top;\n",
       "    }\n",
       "\n",
       "    .dataframe thead th {\n",
       "        text-align: right;\n",
       "    }\n",
       "</style>\n",
       "<table border=\"1\" class=\"dataframe\">\n",
       "  <thead>\n",
       "    <tr style=\"text-align: right;\">\n",
       "      <th></th>\n",
       "      <th>Sl_No</th>\n",
       "      <th>Color</th>\n",
       "      <th>Wear_Type</th>\n",
       "      <th>Material_Type</th>\n",
       "      <th>Reviews</th>\n",
       "    </tr>\n",
       "  </thead>\n",
       "  <tbody>\n",
       "    <tr>\n",
       "      <th>0</th>\n",
       "      <td>1</td>\n",
       "      <td>MINT</td>\n",
       "      <td>Top Wear</td>\n",
       "      <td>Cotton</td>\n",
       "      <td>0</td>\n",
       "    </tr>\n",
       "    <tr>\n",
       "      <th>1</th>\n",
       "      <td>2</td>\n",
       "      <td>WHITE</td>\n",
       "      <td>Top Wear</td>\n",
       "      <td>Cotton</td>\n",
       "      <td>0</td>\n",
       "    </tr>\n",
       "    <tr>\n",
       "      <th>2</th>\n",
       "      <td>3</td>\n",
       "      <td>MID</td>\n",
       "      <td>Top Wear</td>\n",
       "      <td>Denim</td>\n",
       "      <td>0</td>\n",
       "    </tr>\n",
       "    <tr>\n",
       "      <th>3</th>\n",
       "      <td>4</td>\n",
       "      <td>PEACH</td>\n",
       "      <td>Top Wear</td>\n",
       "      <td>Cotton</td>\n",
       "      <td>0</td>\n",
       "    </tr>\n",
       "    <tr>\n",
       "      <th>4</th>\n",
       "      <td>5</td>\n",
       "      <td>PINK</td>\n",
       "      <td>Top Wear</td>\n",
       "      <td>Cotton</td>\n",
       "      <td>0</td>\n",
       "    </tr>\n",
       "    <tr>\n",
       "      <th>...</th>\n",
       "      <td>...</td>\n",
       "      <td>...</td>\n",
       "      <td>...</td>\n",
       "      <td>...</td>\n",
       "      <td>...</td>\n",
       "    </tr>\n",
       "    <tr>\n",
       "      <th>5184</th>\n",
       "      <td>5185</td>\n",
       "      <td>Olive Strata</td>\n",
       "      <td>Top Wear</td>\n",
       "      <td>Polyester</td>\n",
       "      <td>12</td>\n",
       "    </tr>\n",
       "    <tr>\n",
       "      <th>5185</th>\n",
       "      <td>5186</td>\n",
       "      <td>Olive Strata</td>\n",
       "      <td>Top Wear</td>\n",
       "      <td>Polyester</td>\n",
       "      <td>12</td>\n",
       "    </tr>\n",
       "    <tr>\n",
       "      <th>5186</th>\n",
       "      <td>5187</td>\n",
       "      <td>Olive Strata</td>\n",
       "      <td>Top Wear</td>\n",
       "      <td>Polyester</td>\n",
       "      <td>12</td>\n",
       "    </tr>\n",
       "    <tr>\n",
       "      <th>5187</th>\n",
       "      <td>5188</td>\n",
       "      <td>Olive Strata</td>\n",
       "      <td>Top Wear</td>\n",
       "      <td>Polyester</td>\n",
       "      <td>12</td>\n",
       "    </tr>\n",
       "    <tr>\n",
       "      <th>5188</th>\n",
       "      <td>5189</td>\n",
       "      <td>Olive Strata</td>\n",
       "      <td>Top Wear</td>\n",
       "      <td>Polyester</td>\n",
       "      <td>12</td>\n",
       "    </tr>\n",
       "  </tbody>\n",
       "</table>\n",
       "<p>5189 rows × 5 columns</p>\n",
       "</div>"
      ],
      "text/plain": [
       "      Sl_No         Color Wear_Type Material_Type  Reviews\n",
       "0         1          MINT  Top Wear        Cotton        0\n",
       "1         2         WHITE  Top Wear        Cotton        0\n",
       "2         3           MID  Top Wear         Denim        0\n",
       "3         4         PEACH  Top Wear        Cotton        0\n",
       "4         5          PINK  Top Wear        Cotton        0\n",
       "...     ...           ...       ...           ...      ...\n",
       "5184   5185  Olive Strata  Top Wear     Polyester       12\n",
       "5185   5186  Olive Strata  Top Wear     Polyester       12\n",
       "5186   5187  Olive Strata  Top Wear     Polyester       12\n",
       "5187   5188  Olive Strata  Top Wear     Polyester       12\n",
       "5188   5189  Olive Strata  Top Wear     Polyester       12\n",
       "\n",
       "[5189 rows x 5 columns]"
      ]
     },
     "execution_count": 4,
     "metadata": {},
     "output_type": "execute_result"
    }
   ],
   "source": [
    "Table2 = pd.read_csv(r\"C:\\Users\\User\\Desktop\\Tables\\Table2.csv\")\n",
    "Table2"
   ]
  },
  {
   "cell_type": "code",
   "execution_count": 5,
   "id": "f806be95",
   "metadata": {},
   "outputs": [
    {
     "data": {
      "text/plain": [
       "Index(['Sl_No', 'Color', 'Wear_Type', 'Material_Type', 'Reviews'], dtype='object')"
      ]
     },
     "execution_count": 5,
     "metadata": {},
     "output_type": "execute_result"
    }
   ],
   "source": [
    "Table2.columns"
   ]
  },
  {
   "cell_type": "code",
   "execution_count": 6,
   "id": "30f30b0b",
   "metadata": {},
   "outputs": [
    {
     "data": {
      "text/html": [
       "<div>\n",
       "<style scoped>\n",
       "    .dataframe tbody tr th:only-of-type {\n",
       "        vertical-align: middle;\n",
       "    }\n",
       "\n",
       "    .dataframe tbody tr th {\n",
       "        vertical-align: top;\n",
       "    }\n",
       "\n",
       "    .dataframe thead th {\n",
       "        text-align: right;\n",
       "    }\n",
       "</style>\n",
       "<table border=\"1\" class=\"dataframe\">\n",
       "  <thead>\n",
       "    <tr style=\"text-align: right;\">\n",
       "      <th></th>\n",
       "      <th>Sl_No</th>\n",
       "      <th>Size_1</th>\n",
       "      <th>Size_2</th>\n",
       "      <th>Size_3</th>\n",
       "      <th>Size_4</th>\n",
       "      <th>Country_Of_Origin</th>\n",
       "      <th>ReturnTime</th>\n",
       "      <th>Occasion</th>\n",
       "    </tr>\n",
       "  </thead>\n",
       "  <tbody>\n",
       "    <tr>\n",
       "      <th>0</th>\n",
       "      <td>1</td>\n",
       "      <td>7-8Y</td>\n",
       "      <td>-</td>\n",
       "      <td>2-3Y</td>\n",
       "      <td>3-4Y</td>\n",
       "      <td>India</td>\n",
       "      <td>14</td>\n",
       "      <td>Casual</td>\n",
       "    </tr>\n",
       "    <tr>\n",
       "      <th>1</th>\n",
       "      <td>2</td>\n",
       "      <td>2-3 Y</td>\n",
       "      <td>3-4 Y</td>\n",
       "      <td>5-6 Y</td>\n",
       "      <td>7-8 Y</td>\n",
       "      <td>India</td>\n",
       "      <td>14</td>\n",
       "      <td>Casual</td>\n",
       "    </tr>\n",
       "    <tr>\n",
       "      <th>2</th>\n",
       "      <td>3</td>\n",
       "      <td>30</td>\n",
       "      <td>28</td>\n",
       "      <td>28</td>\n",
       "      <td>32</td>\n",
       "      <td>India</td>\n",
       "      <td>0</td>\n",
       "      <td>Casual</td>\n",
       "    </tr>\n",
       "    <tr>\n",
       "      <th>3</th>\n",
       "      <td>4</td>\n",
       "      <td>9-10Y</td>\n",
       "      <td>-</td>\n",
       "      <td>11-12Y</td>\n",
       "      <td>13-14Y</td>\n",
       "      <td>India</td>\n",
       "      <td>0</td>\n",
       "      <td>Casual</td>\n",
       "    </tr>\n",
       "    <tr>\n",
       "      <th>4</th>\n",
       "      <td>5</td>\n",
       "      <td>7-8 Y</td>\n",
       "      <td>-</td>\n",
       "      <td>2-3 Y</td>\n",
       "      <td>3-4 Y</td>\n",
       "      <td>India</td>\n",
       "      <td>0</td>\n",
       "      <td>Casual</td>\n",
       "    </tr>\n",
       "    <tr>\n",
       "      <th>...</th>\n",
       "      <td>...</td>\n",
       "      <td>...</td>\n",
       "      <td>...</td>\n",
       "      <td>...</td>\n",
       "      <td>...</td>\n",
       "      <td>...</td>\n",
       "      <td>...</td>\n",
       "      <td>...</td>\n",
       "    </tr>\n",
       "    <tr>\n",
       "      <th>5184</th>\n",
       "      <td>5185</td>\n",
       "      <td>-</td>\n",
       "      <td>-</td>\n",
       "      <td>-</td>\n",
       "      <td>-</td>\n",
       "      <td>India</td>\n",
       "      <td>14</td>\n",
       "      <td>Sportswear</td>\n",
       "    </tr>\n",
       "    <tr>\n",
       "      <th>5185</th>\n",
       "      <td>5186</td>\n",
       "      <td>-</td>\n",
       "      <td>-</td>\n",
       "      <td>-</td>\n",
       "      <td>-</td>\n",
       "      <td>India</td>\n",
       "      <td>14</td>\n",
       "      <td>Sportswear</td>\n",
       "    </tr>\n",
       "    <tr>\n",
       "      <th>5186</th>\n",
       "      <td>5187</td>\n",
       "      <td>-</td>\n",
       "      <td>-</td>\n",
       "      <td>-</td>\n",
       "      <td>-</td>\n",
       "      <td>India</td>\n",
       "      <td>14</td>\n",
       "      <td>Sportswear</td>\n",
       "    </tr>\n",
       "    <tr>\n",
       "      <th>5187</th>\n",
       "      <td>5188</td>\n",
       "      <td>-</td>\n",
       "      <td>-</td>\n",
       "      <td>-</td>\n",
       "      <td>-</td>\n",
       "      <td>India</td>\n",
       "      <td>14</td>\n",
       "      <td>Sportswear</td>\n",
       "    </tr>\n",
       "    <tr>\n",
       "      <th>5188</th>\n",
       "      <td>5189</td>\n",
       "      <td>-</td>\n",
       "      <td>-</td>\n",
       "      <td>-</td>\n",
       "      <td>-</td>\n",
       "      <td>India</td>\n",
       "      <td>14</td>\n",
       "      <td>Sportswear</td>\n",
       "    </tr>\n",
       "  </tbody>\n",
       "</table>\n",
       "<p>5189 rows × 8 columns</p>\n",
       "</div>"
      ],
      "text/plain": [
       "      Sl_No Size_1 Size_2  Size_3  Size_4 Country_Of_Origin  ReturnTime  \\\n",
       "0         1   7-8Y      -    2-3Y    3-4Y             India          14   \n",
       "1         2  2-3 Y  3-4 Y   5-6 Y   7-8 Y             India          14   \n",
       "2         3     30     28      28      32             India           0   \n",
       "3         4  9-10Y      -  11-12Y  13-14Y             India           0   \n",
       "4         5  7-8 Y      -   2-3 Y   3-4 Y             India           0   \n",
       "...     ...    ...    ...     ...     ...               ...         ...   \n",
       "5184   5185      -      -       -       -             India          14   \n",
       "5185   5186      -      -       -       -             India          14   \n",
       "5186   5187      -      -       -       -             India          14   \n",
       "5187   5188      -      -       -       -             India          14   \n",
       "5188   5189      -      -       -       -             India          14   \n",
       "\n",
       "         Occasion  \n",
       "0          Casual  \n",
       "1          Casual  \n",
       "2          Casual  \n",
       "3          Casual  \n",
       "4          Casual  \n",
       "...           ...  \n",
       "5184   Sportswear  \n",
       "5185   Sportswear  \n",
       "5186   Sportswear  \n",
       "5187   Sportswear  \n",
       "5188   Sportswear  \n",
       "\n",
       "[5189 rows x 8 columns]"
      ]
     },
     "execution_count": 6,
     "metadata": {},
     "output_type": "execute_result"
    }
   ],
   "source": [
    "Table3 = pd.read_csv(r\"C:\\Users\\User\\Desktop\\Tables\\Table3.csv\")\n",
    "Table3"
   ]
  },
  {
   "cell_type": "code",
   "execution_count": 7,
   "id": "f447040f",
   "metadata": {},
   "outputs": [
    {
     "data": {
      "text/plain": [
       "Index(['Sl_No', 'Size_1', 'Size_2', 'Size_3', 'Size_4', 'Country_Of_Origin',\n",
       "       'ReturnTime', 'Occasion'],\n",
       "      dtype='object')"
      ]
     },
     "execution_count": 7,
     "metadata": {},
     "output_type": "execute_result"
    }
   ],
   "source": [
    "Table3.columns"
   ]
  },
  {
   "cell_type": "code",
   "execution_count": 8,
   "id": "2fbb1553",
   "metadata": {},
   "outputs": [
    {
     "data": {
      "text/html": [
       "<div>\n",
       "<style scoped>\n",
       "    .dataframe tbody tr th:only-of-type {\n",
       "        vertical-align: middle;\n",
       "    }\n",
       "\n",
       "    .dataframe tbody tr th {\n",
       "        vertical-align: top;\n",
       "    }\n",
       "\n",
       "    .dataframe thead th {\n",
       "        text-align: right;\n",
       "    }\n",
       "</style>\n",
       "<table border=\"1\" class=\"dataframe\">\n",
       "  <thead>\n",
       "    <tr style=\"text-align: right;\">\n",
       "      <th></th>\n",
       "      <th>Sl_No</th>\n",
       "      <th>Brand_Name</th>\n",
       "      <th>Category</th>\n",
       "      <th>Product_Type</th>\n",
       "      <th>Product_Name</th>\n",
       "      <th>Product_Code</th>\n",
       "      <th>Price</th>\n",
       "      <th>Color</th>\n",
       "      <th>Wear_Type</th>\n",
       "      <th>Material_Type</th>\n",
       "      <th>Reviews</th>\n",
       "    </tr>\n",
       "  </thead>\n",
       "  <tbody>\n",
       "    <tr>\n",
       "      <th>0</th>\n",
       "      <td>1</td>\n",
       "      <td>Stop</td>\n",
       "      <td>Kids</td>\n",
       "      <td>Tops</td>\n",
       "      <td>206955264_MINT</td>\n",
       "      <td>206955264</td>\n",
       "      <td>1254</td>\n",
       "      <td>MINT</td>\n",
       "      <td>Top Wear</td>\n",
       "      <td>Cotton</td>\n",
       "      <td>0</td>\n",
       "    </tr>\n",
       "    <tr>\n",
       "      <th>1</th>\n",
       "      <td>2</td>\n",
       "      <td>Intune</td>\n",
       "      <td>Kids</td>\n",
       "      <td>Cotton</td>\n",
       "      <td>A Day at the Beach Cotton T-shirt for Boys</td>\n",
       "      <td>S23K-JBTSHK041</td>\n",
       "      <td>8990</td>\n",
       "      <td>WHITE</td>\n",
       "      <td>Top Wear</td>\n",
       "      <td>Cotton</td>\n",
       "      <td>0</td>\n",
       "    </tr>\n",
       "    <tr>\n",
       "      <th>2</th>\n",
       "      <td>3</td>\n",
       "      <td>Life</td>\n",
       "      <td>Women</td>\n",
       "      <td>Cotton Stretch</td>\n",
       "      <td>A Line Above Knee Denim Women's Casual Wear Sk...</td>\n",
       "      <td>A22507DENSAND14</td>\n",
       "      <td>3456</td>\n",
       "      <td>MID</td>\n",
       "      <td>Top Wear</td>\n",
       "      <td>Denim</td>\n",
       "      <td>0</td>\n",
       "    </tr>\n",
       "    <tr>\n",
       "      <th>3</th>\n",
       "      <td>4</td>\n",
       "      <td>Life</td>\n",
       "      <td>Kids</td>\n",
       "      <td>Half Sleeves</td>\n",
       "      <td>A20711GTEE204_PEACH</td>\n",
       "      <td>A20711GTEE204</td>\n",
       "      <td>8937</td>\n",
       "      <td>PEACH</td>\n",
       "      <td>Top Wear</td>\n",
       "      <td>Cotton</td>\n",
       "      <td>0</td>\n",
       "    </tr>\n",
       "    <tr>\n",
       "      <th>4</th>\n",
       "      <td>5</td>\n",
       "      <td>Stop</td>\n",
       "      <td>Kids</td>\n",
       "      <td>Tops</td>\n",
       "      <td>A22710DSNGTEE03_PINK</td>\n",
       "      <td>A22710DSNGTEE03</td>\n",
       "      <td>8937</td>\n",
       "      <td>PINK</td>\n",
       "      <td>Top Wear</td>\n",
       "      <td>Cotton</td>\n",
       "      <td>0</td>\n",
       "    </tr>\n",
       "    <tr>\n",
       "      <th>...</th>\n",
       "      <td>...</td>\n",
       "      <td>...</td>\n",
       "      <td>...</td>\n",
       "      <td>...</td>\n",
       "      <td>...</td>\n",
       "      <td>...</td>\n",
       "      <td>...</td>\n",
       "      <td>...</td>\n",
       "      <td>...</td>\n",
       "      <td>...</td>\n",
       "      <td>...</td>\n",
       "    </tr>\n",
       "    <tr>\n",
       "      <th>5184</th>\n",
       "      <td>5185</td>\n",
       "      <td>Adidas</td>\n",
       "      <td>Men</td>\n",
       "      <td>Top</td>\n",
       "      <td>Y-3 REAL MADRID ANTHEM JACKET</td>\n",
       "      <td>HB13730</td>\n",
       "      <td>34999</td>\n",
       "      <td>Olive Strata</td>\n",
       "      <td>Top Wear</td>\n",
       "      <td>Polyester</td>\n",
       "      <td>12</td>\n",
       "    </tr>\n",
       "    <tr>\n",
       "      <th>5185</th>\n",
       "      <td>5186</td>\n",
       "      <td>Adidas</td>\n",
       "      <td>Men</td>\n",
       "      <td>Top</td>\n",
       "      <td>Y-3 REAL MADRID ANTHEM JACKET</td>\n",
       "      <td>HB14680</td>\n",
       "      <td>34999</td>\n",
       "      <td>Olive Strata</td>\n",
       "      <td>Top Wear</td>\n",
       "      <td>Polyester</td>\n",
       "      <td>12</td>\n",
       "    </tr>\n",
       "    <tr>\n",
       "      <th>5186</th>\n",
       "      <td>5187</td>\n",
       "      <td>Adidas</td>\n",
       "      <td>Men</td>\n",
       "      <td>Top</td>\n",
       "      <td>Y-3 REAL MADRID ANTHEM JACKET</td>\n",
       "      <td>HB14690</td>\n",
       "      <td>34999</td>\n",
       "      <td>Olive Strata</td>\n",
       "      <td>Top Wear</td>\n",
       "      <td>Polyester</td>\n",
       "      <td>12</td>\n",
       "    </tr>\n",
       "    <tr>\n",
       "      <th>5187</th>\n",
       "      <td>5188</td>\n",
       "      <td>Adidas</td>\n",
       "      <td>Men</td>\n",
       "      <td>Top</td>\n",
       "      <td>Y-3 REAL MADRID ANTHEM JACKET</td>\n",
       "      <td>HB9880</td>\n",
       "      <td>34999</td>\n",
       "      <td>Olive Strata</td>\n",
       "      <td>Top Wear</td>\n",
       "      <td>Polyester</td>\n",
       "      <td>12</td>\n",
       "    </tr>\n",
       "    <tr>\n",
       "      <th>5188</th>\n",
       "      <td>5189</td>\n",
       "      <td>Adidas</td>\n",
       "      <td>Men</td>\n",
       "      <td>Top</td>\n",
       "      <td>Y-3 REAL MADRID ANTHEM JACKET</td>\n",
       "      <td>HB9890</td>\n",
       "      <td>34999</td>\n",
       "      <td>Olive Strata</td>\n",
       "      <td>Top Wear</td>\n",
       "      <td>Polyester</td>\n",
       "      <td>12</td>\n",
       "    </tr>\n",
       "  </tbody>\n",
       "</table>\n",
       "<p>5189 rows × 11 columns</p>\n",
       "</div>"
      ],
      "text/plain": [
       "      Sl_No Brand_Name Category    Product_Type  \\\n",
       "0         1       Stop     Kids            Tops   \n",
       "1         2     Intune     Kids          Cotton   \n",
       "2         3       Life    Women  Cotton Stretch   \n",
       "3         4       Life     Kids    Half Sleeves   \n",
       "4         5       Stop     Kids            Tops   \n",
       "...     ...        ...      ...             ...   \n",
       "5184   5185     Adidas      Men             Top   \n",
       "5185   5186     Adidas      Men             Top   \n",
       "5186   5187     Adidas      Men             Top   \n",
       "5187   5188     Adidas      Men             Top   \n",
       "5188   5189     Adidas      Men             Top   \n",
       "\n",
       "                                           Product_Name     Product_Code  \\\n",
       "0                                        206955264_MINT        206955264   \n",
       "1            A Day at the Beach Cotton T-shirt for Boys   S23K-JBTSHK041   \n",
       "2     A Line Above Knee Denim Women's Casual Wear Sk...  A22507DENSAND14   \n",
       "3                                   A20711GTEE204_PEACH    A20711GTEE204   \n",
       "4                                  A22710DSNGTEE03_PINK  A22710DSNGTEE03   \n",
       "...                                                 ...              ...   \n",
       "5184                      Y-3 REAL MADRID ANTHEM JACKET          HB13730   \n",
       "5185                      Y-3 REAL MADRID ANTHEM JACKET          HB14680   \n",
       "5186                      Y-3 REAL MADRID ANTHEM JACKET          HB14690   \n",
       "5187                      Y-3 REAL MADRID ANTHEM JACKET           HB9880   \n",
       "5188                      Y-3 REAL MADRID ANTHEM JACKET           HB9890   \n",
       "\n",
       "      Price         Color Wear_Type Material_Type  Reviews  \n",
       "0      1254          MINT  Top Wear        Cotton        0  \n",
       "1      8990         WHITE  Top Wear        Cotton        0  \n",
       "2      3456           MID  Top Wear         Denim        0  \n",
       "3      8937         PEACH  Top Wear        Cotton        0  \n",
       "4      8937          PINK  Top Wear        Cotton        0  \n",
       "...     ...           ...       ...           ...      ...  \n",
       "5184  34999  Olive Strata  Top Wear     Polyester       12  \n",
       "5185  34999  Olive Strata  Top Wear     Polyester       12  \n",
       "5186  34999  Olive Strata  Top Wear     Polyester       12  \n",
       "5187  34999  Olive Strata  Top Wear     Polyester       12  \n",
       "5188  34999  Olive Strata  Top Wear     Polyester       12  \n",
       "\n",
       "[5189 rows x 11 columns]"
      ]
     },
     "execution_count": 8,
     "metadata": {},
     "output_type": "execute_result"
    }
   ],
   "source": [
    "merged_table = pd.merge(Table1, Table2, on='Sl_No')\n",
    "merged_table"
   ]
  },
  {
   "cell_type": "code",
   "execution_count": 9,
   "id": "09b1966b",
   "metadata": {},
   "outputs": [
    {
     "data": {
      "text/html": [
       "<div>\n",
       "<style scoped>\n",
       "    .dataframe tbody tr th:only-of-type {\n",
       "        vertical-align: middle;\n",
       "    }\n",
       "\n",
       "    .dataframe tbody tr th {\n",
       "        vertical-align: top;\n",
       "    }\n",
       "\n",
       "    .dataframe thead th {\n",
       "        text-align: right;\n",
       "    }\n",
       "</style>\n",
       "<table border=\"1\" class=\"dataframe\">\n",
       "  <thead>\n",
       "    <tr style=\"text-align: right;\">\n",
       "      <th></th>\n",
       "      <th>Sl_No</th>\n",
       "      <th>Brand_Name</th>\n",
       "      <th>Category</th>\n",
       "      <th>Product_Type</th>\n",
       "      <th>Product_Name</th>\n",
       "      <th>Product_Code</th>\n",
       "      <th>Price</th>\n",
       "      <th>Color</th>\n",
       "      <th>Wear_Type</th>\n",
       "      <th>Material_Type</th>\n",
       "      <th>Reviews</th>\n",
       "      <th>Size_1</th>\n",
       "      <th>Size_2</th>\n",
       "      <th>Size_3</th>\n",
       "      <th>Size_4</th>\n",
       "      <th>Country_Of_Origin</th>\n",
       "      <th>ReturnTime</th>\n",
       "      <th>Occasion</th>\n",
       "    </tr>\n",
       "  </thead>\n",
       "  <tbody>\n",
       "    <tr>\n",
       "      <th>0</th>\n",
       "      <td>1</td>\n",
       "      <td>Stop</td>\n",
       "      <td>Kids</td>\n",
       "      <td>Tops</td>\n",
       "      <td>206955264_MINT</td>\n",
       "      <td>206955264</td>\n",
       "      <td>1254</td>\n",
       "      <td>MINT</td>\n",
       "      <td>Top Wear</td>\n",
       "      <td>Cotton</td>\n",
       "      <td>0</td>\n",
       "      <td>7-8Y</td>\n",
       "      <td>-</td>\n",
       "      <td>2-3Y</td>\n",
       "      <td>3-4Y</td>\n",
       "      <td>India</td>\n",
       "      <td>14</td>\n",
       "      <td>Casual</td>\n",
       "    </tr>\n",
       "    <tr>\n",
       "      <th>1</th>\n",
       "      <td>2</td>\n",
       "      <td>Intune</td>\n",
       "      <td>Kids</td>\n",
       "      <td>Cotton</td>\n",
       "      <td>A Day at the Beach Cotton T-shirt for Boys</td>\n",
       "      <td>S23K-JBTSHK041</td>\n",
       "      <td>8990</td>\n",
       "      <td>WHITE</td>\n",
       "      <td>Top Wear</td>\n",
       "      <td>Cotton</td>\n",
       "      <td>0</td>\n",
       "      <td>2-3 Y</td>\n",
       "      <td>3-4 Y</td>\n",
       "      <td>5-6 Y</td>\n",
       "      <td>7-8 Y</td>\n",
       "      <td>India</td>\n",
       "      <td>14</td>\n",
       "      <td>Casual</td>\n",
       "    </tr>\n",
       "    <tr>\n",
       "      <th>2</th>\n",
       "      <td>3</td>\n",
       "      <td>Life</td>\n",
       "      <td>Women</td>\n",
       "      <td>Cotton Stretch</td>\n",
       "      <td>A Line Above Knee Denim Women's Casual Wear Sk...</td>\n",
       "      <td>A22507DENSAND14</td>\n",
       "      <td>3456</td>\n",
       "      <td>MID</td>\n",
       "      <td>Top Wear</td>\n",
       "      <td>Denim</td>\n",
       "      <td>0</td>\n",
       "      <td>30</td>\n",
       "      <td>28</td>\n",
       "      <td>28</td>\n",
       "      <td>32</td>\n",
       "      <td>India</td>\n",
       "      <td>0</td>\n",
       "      <td>Casual</td>\n",
       "    </tr>\n",
       "    <tr>\n",
       "      <th>3</th>\n",
       "      <td>4</td>\n",
       "      <td>Life</td>\n",
       "      <td>Kids</td>\n",
       "      <td>Half Sleeves</td>\n",
       "      <td>A20711GTEE204_PEACH</td>\n",
       "      <td>A20711GTEE204</td>\n",
       "      <td>8937</td>\n",
       "      <td>PEACH</td>\n",
       "      <td>Top Wear</td>\n",
       "      <td>Cotton</td>\n",
       "      <td>0</td>\n",
       "      <td>9-10Y</td>\n",
       "      <td>-</td>\n",
       "      <td>11-12Y</td>\n",
       "      <td>13-14Y</td>\n",
       "      <td>India</td>\n",
       "      <td>0</td>\n",
       "      <td>Casual</td>\n",
       "    </tr>\n",
       "    <tr>\n",
       "      <th>4</th>\n",
       "      <td>5</td>\n",
       "      <td>Stop</td>\n",
       "      <td>Kids</td>\n",
       "      <td>Tops</td>\n",
       "      <td>A22710DSNGTEE03_PINK</td>\n",
       "      <td>A22710DSNGTEE03</td>\n",
       "      <td>8937</td>\n",
       "      <td>PINK</td>\n",
       "      <td>Top Wear</td>\n",
       "      <td>Cotton</td>\n",
       "      <td>0</td>\n",
       "      <td>7-8 Y</td>\n",
       "      <td>-</td>\n",
       "      <td>2-3 Y</td>\n",
       "      <td>3-4 Y</td>\n",
       "      <td>India</td>\n",
       "      <td>0</td>\n",
       "      <td>Casual</td>\n",
       "    </tr>\n",
       "    <tr>\n",
       "      <th>...</th>\n",
       "      <td>...</td>\n",
       "      <td>...</td>\n",
       "      <td>...</td>\n",
       "      <td>...</td>\n",
       "      <td>...</td>\n",
       "      <td>...</td>\n",
       "      <td>...</td>\n",
       "      <td>...</td>\n",
       "      <td>...</td>\n",
       "      <td>...</td>\n",
       "      <td>...</td>\n",
       "      <td>...</td>\n",
       "      <td>...</td>\n",
       "      <td>...</td>\n",
       "      <td>...</td>\n",
       "      <td>...</td>\n",
       "      <td>...</td>\n",
       "      <td>...</td>\n",
       "    </tr>\n",
       "    <tr>\n",
       "      <th>5184</th>\n",
       "      <td>5185</td>\n",
       "      <td>Adidas</td>\n",
       "      <td>Men</td>\n",
       "      <td>Top</td>\n",
       "      <td>Y-3 REAL MADRID ANTHEM JACKET</td>\n",
       "      <td>HB13730</td>\n",
       "      <td>34999</td>\n",
       "      <td>Olive Strata</td>\n",
       "      <td>Top Wear</td>\n",
       "      <td>Polyester</td>\n",
       "      <td>12</td>\n",
       "      <td>-</td>\n",
       "      <td>-</td>\n",
       "      <td>-</td>\n",
       "      <td>-</td>\n",
       "      <td>India</td>\n",
       "      <td>14</td>\n",
       "      <td>Sportswear</td>\n",
       "    </tr>\n",
       "    <tr>\n",
       "      <th>5185</th>\n",
       "      <td>5186</td>\n",
       "      <td>Adidas</td>\n",
       "      <td>Men</td>\n",
       "      <td>Top</td>\n",
       "      <td>Y-3 REAL MADRID ANTHEM JACKET</td>\n",
       "      <td>HB14680</td>\n",
       "      <td>34999</td>\n",
       "      <td>Olive Strata</td>\n",
       "      <td>Top Wear</td>\n",
       "      <td>Polyester</td>\n",
       "      <td>12</td>\n",
       "      <td>-</td>\n",
       "      <td>-</td>\n",
       "      <td>-</td>\n",
       "      <td>-</td>\n",
       "      <td>India</td>\n",
       "      <td>14</td>\n",
       "      <td>Sportswear</td>\n",
       "    </tr>\n",
       "    <tr>\n",
       "      <th>5186</th>\n",
       "      <td>5187</td>\n",
       "      <td>Adidas</td>\n",
       "      <td>Men</td>\n",
       "      <td>Top</td>\n",
       "      <td>Y-3 REAL MADRID ANTHEM JACKET</td>\n",
       "      <td>HB14690</td>\n",
       "      <td>34999</td>\n",
       "      <td>Olive Strata</td>\n",
       "      <td>Top Wear</td>\n",
       "      <td>Polyester</td>\n",
       "      <td>12</td>\n",
       "      <td>-</td>\n",
       "      <td>-</td>\n",
       "      <td>-</td>\n",
       "      <td>-</td>\n",
       "      <td>India</td>\n",
       "      <td>14</td>\n",
       "      <td>Sportswear</td>\n",
       "    </tr>\n",
       "    <tr>\n",
       "      <th>5187</th>\n",
       "      <td>5188</td>\n",
       "      <td>Adidas</td>\n",
       "      <td>Men</td>\n",
       "      <td>Top</td>\n",
       "      <td>Y-3 REAL MADRID ANTHEM JACKET</td>\n",
       "      <td>HB9880</td>\n",
       "      <td>34999</td>\n",
       "      <td>Olive Strata</td>\n",
       "      <td>Top Wear</td>\n",
       "      <td>Polyester</td>\n",
       "      <td>12</td>\n",
       "      <td>-</td>\n",
       "      <td>-</td>\n",
       "      <td>-</td>\n",
       "      <td>-</td>\n",
       "      <td>India</td>\n",
       "      <td>14</td>\n",
       "      <td>Sportswear</td>\n",
       "    </tr>\n",
       "    <tr>\n",
       "      <th>5188</th>\n",
       "      <td>5189</td>\n",
       "      <td>Adidas</td>\n",
       "      <td>Men</td>\n",
       "      <td>Top</td>\n",
       "      <td>Y-3 REAL MADRID ANTHEM JACKET</td>\n",
       "      <td>HB9890</td>\n",
       "      <td>34999</td>\n",
       "      <td>Olive Strata</td>\n",
       "      <td>Top Wear</td>\n",
       "      <td>Polyester</td>\n",
       "      <td>12</td>\n",
       "      <td>-</td>\n",
       "      <td>-</td>\n",
       "      <td>-</td>\n",
       "      <td>-</td>\n",
       "      <td>India</td>\n",
       "      <td>14</td>\n",
       "      <td>Sportswear</td>\n",
       "    </tr>\n",
       "  </tbody>\n",
       "</table>\n",
       "<p>5189 rows × 18 columns</p>\n",
       "</div>"
      ],
      "text/plain": [
       "      Sl_No Brand_Name Category    Product_Type  \\\n",
       "0         1       Stop     Kids            Tops   \n",
       "1         2     Intune     Kids          Cotton   \n",
       "2         3       Life    Women  Cotton Stretch   \n",
       "3         4       Life     Kids    Half Sleeves   \n",
       "4         5       Stop     Kids            Tops   \n",
       "...     ...        ...      ...             ...   \n",
       "5184   5185     Adidas      Men             Top   \n",
       "5185   5186     Adidas      Men             Top   \n",
       "5186   5187     Adidas      Men             Top   \n",
       "5187   5188     Adidas      Men             Top   \n",
       "5188   5189     Adidas      Men             Top   \n",
       "\n",
       "                                           Product_Name     Product_Code  \\\n",
       "0                                        206955264_MINT        206955264   \n",
       "1            A Day at the Beach Cotton T-shirt for Boys   S23K-JBTSHK041   \n",
       "2     A Line Above Knee Denim Women's Casual Wear Sk...  A22507DENSAND14   \n",
       "3                                   A20711GTEE204_PEACH    A20711GTEE204   \n",
       "4                                  A22710DSNGTEE03_PINK  A22710DSNGTEE03   \n",
       "...                                                 ...              ...   \n",
       "5184                      Y-3 REAL MADRID ANTHEM JACKET          HB13730   \n",
       "5185                      Y-3 REAL MADRID ANTHEM JACKET          HB14680   \n",
       "5186                      Y-3 REAL MADRID ANTHEM JACKET          HB14690   \n",
       "5187                      Y-3 REAL MADRID ANTHEM JACKET           HB9880   \n",
       "5188                      Y-3 REAL MADRID ANTHEM JACKET           HB9890   \n",
       "\n",
       "      Price         Color Wear_Type Material_Type  Reviews Size_1 Size_2  \\\n",
       "0      1254          MINT  Top Wear        Cotton        0   7-8Y      -   \n",
       "1      8990         WHITE  Top Wear        Cotton        0  2-3 Y  3-4 Y   \n",
       "2      3456           MID  Top Wear         Denim        0     30     28   \n",
       "3      8937         PEACH  Top Wear        Cotton        0  9-10Y      -   \n",
       "4      8937          PINK  Top Wear        Cotton        0  7-8 Y      -   \n",
       "...     ...           ...       ...           ...      ...    ...    ...   \n",
       "5184  34999  Olive Strata  Top Wear     Polyester       12      -      -   \n",
       "5185  34999  Olive Strata  Top Wear     Polyester       12      -      -   \n",
       "5186  34999  Olive Strata  Top Wear     Polyester       12      -      -   \n",
       "5187  34999  Olive Strata  Top Wear     Polyester       12      -      -   \n",
       "5188  34999  Olive Strata  Top Wear     Polyester       12      -      -   \n",
       "\n",
       "      Size_3  Size_4 Country_Of_Origin  ReturnTime     Occasion  \n",
       "0       2-3Y    3-4Y             India          14       Casual  \n",
       "1      5-6 Y   7-8 Y             India          14       Casual  \n",
       "2         28      32             India           0       Casual  \n",
       "3     11-12Y  13-14Y             India           0       Casual  \n",
       "4      2-3 Y   3-4 Y             India           0       Casual  \n",
       "...      ...     ...               ...         ...          ...  \n",
       "5184       -       -             India          14   Sportswear  \n",
       "5185       -       -             India          14   Sportswear  \n",
       "5186       -       -             India          14   Sportswear  \n",
       "5187       -       -             India          14   Sportswear  \n",
       "5188       -       -             India          14   Sportswear  \n",
       "\n",
       "[5189 rows x 18 columns]"
      ]
     },
     "execution_count": 9,
     "metadata": {},
     "output_type": "execute_result"
    }
   ],
   "source": [
    "final_table = pd.merge(merged_table, Table3, on='Sl_No')\n",
    "final_table"
   ]
  },
  {
   "cell_type": "code",
   "execution_count": 10,
   "id": "0d821c38",
   "metadata": {},
   "outputs": [
    {
     "name": "stdout",
     "output_type": "stream",
     "text": [
      "<class 'pandas.core.frame.DataFrame'>\n",
      "Int64Index: 5189 entries, 0 to 5188\n",
      "Data columns (total 18 columns):\n",
      " #   Column             Non-Null Count  Dtype \n",
      "---  ------             --------------  ----- \n",
      " 0   Sl_No              5189 non-null   int64 \n",
      " 1   Brand_Name         5189 non-null   object\n",
      " 2   Category           5189 non-null   object\n",
      " 3   Product_Type       5189 non-null   object\n",
      " 4   Product_Name       5189 non-null   object\n",
      " 5   Product_Code       5189 non-null   object\n",
      " 6   Price              5189 non-null   int64 \n",
      " 7   Color              5189 non-null   object\n",
      " 8   Wear_Type          5189 non-null   object\n",
      " 9   Material_Type      5189 non-null   object\n",
      " 10  Reviews            5189 non-null   int64 \n",
      " 11  Size_1             5101 non-null   object\n",
      " 12  Size_2             5101 non-null   object\n",
      " 13  Size_3             5102 non-null   object\n",
      " 14  Size_4             5103 non-null   object\n",
      " 15  Country_Of_Origin  5189 non-null   object\n",
      " 16  ReturnTime         5189 non-null   int64 \n",
      " 17  Occasion           5189 non-null   object\n",
      "dtypes: int64(4), object(14)\n",
      "memory usage: 770.2+ KB\n",
      "None\n"
     ]
    }
   ],
   "source": [
    "print(final_table.info())"
   ]
  },
  {
   "cell_type": "markdown",
   "id": "64925407",
   "metadata": {},
   "source": [
    "The final_table DataFrame contains 5189 entries and 18 columns.\n",
    "\n",
    "Sl_No: Serial number. Brand_Name: Name of the brand. Category: Category of the product. Product_Type: Type of the product. Product_Name: Name of the product. Product_Code: Code of the product. Price: Price of the product. Color: Color of the product. Wear_Type: Type of wear. Material_Type: Type of material. Reviews: Number of reviews. Size_1: Size category 1. Size_2: Size category 2. Size_3: Size category 3. Size_4: Size category 4. Country_Of_Origin: Country of origin of the product. ReturnTime: Return time of the product. Occasion: Occasion for the product. Here are some observations based on the information provided:\n",
    "\n",
    "Data Types: The majority of the columns are of object type (string), with a few integer columns (Sl_No, Price, Reviews, and ReturnTime).\n",
    "\n",
    "Missing Values: Columns Size_1, Size_2, Size_3, and Size_4 have missing values. These columns are related to the size of the products.\n",
    "\n",
    "Categorical Variables: Several columns such as Brand_Name, Category, Color, Wear_Type, Material_Type, Country_Of_Origin, and Occasion are categorical variables."
   ]
  },
  {
   "cell_type": "code",
   "execution_count": 13,
   "id": "cd029ec4",
   "metadata": {},
   "outputs": [
    {
     "name": "stdout",
     "output_type": "stream",
     "text": [
      "Sl_No                 0\n",
      "Brand_Name            0\n",
      "Category              0\n",
      "Product_Type          0\n",
      "Product_Name          0\n",
      "Product_Code          0\n",
      "Price                 0\n",
      "Color                 0\n",
      "Wear_Type             0\n",
      "Material_Type         0\n",
      "Reviews               0\n",
      "Size_1               88\n",
      "Size_2               88\n",
      "Size_3               87\n",
      "Size_4               86\n",
      "Country_Of_Origin     0\n",
      "ReturnTime            0\n",
      "Occasion              0\n",
      "dtype: int64\n"
     ]
    }
   ],
   "source": [
    "# Check for missing values\n",
    "print(final_table.isnull().sum())"
   ]
  },
  {
   "cell_type": "code",
   "execution_count": 14,
   "id": "c2d65fb8",
   "metadata": {},
   "outputs": [],
   "source": [
    "# Fill missing values in Size columns\n",
    "final_table[['Size_1', 'Size_2', 'Size_3', 'Size_4']] = final_table[['Size_1', 'Size_2', 'Size_3', 'Size_4']].fillna('-')\n"
   ]
  },
  {
   "cell_type": "code",
   "execution_count": 72,
   "id": "b8c54561",
   "metadata": {},
   "outputs": [
    {
     "name": "stdout",
     "output_type": "stream",
     "text": [
      "Duplicate Rows in final_table: 0\n"
     ]
    }
   ],
   "source": [
    "# Check for duplicates\n",
    "print(\"Duplicate Rows in final_table:\", final_table.duplicated().sum())"
   ]
  },
  {
   "cell_type": "markdown",
   "id": "fd12d505",
   "metadata": {},
   "source": [
    "# Statistics"
   ]
  },
  {
   "cell_type": "code",
   "execution_count": 73,
   "id": "c942482a",
   "metadata": {},
   "outputs": [
    {
     "name": "stdout",
     "output_type": "stream",
     "text": [
      "Statistics for final_table:\n",
      "             Sl_No         Price      Reviews   ReturnTime\n",
      "count  5189.000000   5189.000000  5189.000000  5189.000000\n",
      "mean   2595.000000   3559.084987     9.258624     8.871073\n",
      "std    1498.079604   6253.011232    14.589466     4.342168\n",
      "min       1.000000    179.000000     0.000000     0.000000\n",
      "25%    1298.000000    749.000000     0.000000     7.000000\n",
      "50%    2595.000000   1349.000000    10.000000     7.000000\n",
      "75%    3892.000000   4563.000000    10.000000    14.000000\n",
      "max    5189.000000  49999.000000   124.000000    14.000000\n"
     ]
    }
   ],
   "source": [
    "print(\"Statistics for final_table:\")\n",
    "print(final_table.describe())"
   ]
  },
  {
   "cell_type": "markdown",
   "id": "bdc7cd6e",
   "metadata": {},
   "source": [
    "# Categorical Variables"
   ]
  },
  {
   "cell_type": "code",
   "execution_count": 74,
   "id": "96d2507b",
   "metadata": {},
   "outputs": [
    {
     "name": "stdout",
     "output_type": "stream",
     "text": [
      "Frequency of Categories in final_table - Category:\n",
      "Women     1629\n",
      "Men       1605\n",
      "Kids      1544\n",
      "Unisex     411\n",
      "Name: Category, dtype: int64\n"
     ]
    }
   ],
   "source": [
    "print(\"Frequency of Categories in final_table - Category:\")\n",
    "print(final_table['Category'].value_counts())"
   ]
  },
  {
   "cell_type": "code",
   "execution_count": 75,
   "id": "ba470c18",
   "metadata": {},
   "outputs": [
    {
     "name": "stdout",
     "output_type": "stream",
     "text": [
      "\n",
      "Frequency of Categories in final_table - Wear_Type:\n",
      "Top Wear       3000\n",
      "Bottom Wear    1814\n",
      "Indian Wear     200\n",
      "Top wear        175\n",
      "Name: Wear_Type, dtype: int64\n"
     ]
    }
   ],
   "source": [
    "print(\"\\nFrequency of Categories in final_table - Wear_Type:\")\n",
    "print(final_table['Wear_Type'].value_counts())"
   ]
  },
  {
   "cell_type": "code",
   "execution_count": 76,
   "id": "302dc336",
   "metadata": {},
   "outputs": [],
   "source": [
    "final_table['Wear_Type'] = final_table['Wear_Type'].replace('Top wear', 'Top Wear')"
   ]
  },
  {
   "cell_type": "code",
   "execution_count": 77,
   "id": "f681c43c",
   "metadata": {},
   "outputs": [
    {
     "name": "stdout",
     "output_type": "stream",
     "text": [
      "\n",
      "Frequency of Categories in final_table - Wear_Type:\n",
      "Top Wear       3175\n",
      "Bottom Wear    1814\n",
      "Indian Wear     200\n",
      "Name: Wear_Type, dtype: int64\n"
     ]
    }
   ],
   "source": [
    "print(\"\\nFrequency of Categories in final_table - Wear_Type:\")\n",
    "print(final_table['Wear_Type'].value_counts())"
   ]
  },
  {
   "cell_type": "code",
   "execution_count": 78,
   "id": "e44ce959",
   "metadata": {},
   "outputs": [
    {
     "name": "stdout",
     "output_type": "stream",
     "text": [
      "\n",
      "Frequency of Categories in final_table - Occasion:\n",
      "Casual         3371\n",
      " Sportswear     976\n",
      "Celebration     741\n",
      "winter wear      60\n",
      " Festive         28\n",
      " Fashion          7\n",
      "Formal Wear       4\n",
      "Winter Wear       1\n",
      "Fusion Wear       1\n",
      "Name: Occasion, dtype: int64\n"
     ]
    }
   ],
   "source": [
    "print(\"\\nFrequency of Categories in final_table - Occasion:\")\n",
    "print(final_table['Occasion'].value_counts())"
   ]
  },
  {
   "cell_type": "code",
   "execution_count": 79,
   "id": "19c0eff1",
   "metadata": {},
   "outputs": [],
   "source": [
    "final_table['Occasion'] = final_table['Occasion'].replace('winter wear', 'Winter Wear')"
   ]
  },
  {
   "cell_type": "code",
   "execution_count": 80,
   "id": "4ff66967",
   "metadata": {},
   "outputs": [
    {
     "name": "stdout",
     "output_type": "stream",
     "text": [
      "\n",
      "Frequency of Categories in final_table - Occasion:\n",
      "Casual         3371\n",
      " Sportswear     976\n",
      "Celebration     741\n",
      "Winter Wear      61\n",
      " Festive         28\n",
      " Fashion          7\n",
      "Formal Wear       4\n",
      "Fusion Wear       1\n",
      "Name: Occasion, dtype: int64\n"
     ]
    }
   ],
   "source": [
    "print(\"\\nFrequency of Categories in final_table - Occasion:\")\n",
    "print(final_table['Occasion'].value_counts())"
   ]
  },
  {
   "cell_type": "markdown",
   "id": "bb2c209c",
   "metadata": {},
   "source": [
    "# Visualization"
   ]
  },
  {
   "cell_type": "code",
   "execution_count": 81,
   "id": "ed81337d",
   "metadata": {},
   "outputs": [
    {
     "data": {
      "image/png": "[encoded data removed]",
      "text/plain": [
       "<Figure size 1000x1000 with 20 Axes>"
      ]
     },
     "metadata": {},
     "output_type": "display_data"
    }
   ],
   "source": [
    "sns.pairplot(final_table)\n",
    "plt.show()"
   ]
  },
  {
   "cell_type": "code",
   "execution_count": 82,
   "id": "6a7e356a",
   "metadata": {},
   "outputs": [
    {
     "data": {
      "image/png": "[encoded data removed]",
      "text/plain": [
       "<Figure size 640x480 with 1 Axes>"
      ]
     },
     "metadata": {},
     "output_type": "display_data"
    }
   ],
   "source": [
    "plt.hist(final_table['Price'], bins=20)\n",
    "plt.xlabel('Value')\n",
    "plt.ylabel('Frequency')\n",
    "plt.title('Histogram of Column')\n",
    "plt.show()"
   ]
  },
  {
   "cell_type": "code",
   "execution_count": 83,
   "id": "20d2d97c",
   "metadata": {
    "scrolled": true
   },
   "outputs": [
    {
     "data": {
      "image/png": "[encoded data removed]",
      "text/plain": [
       "<Figure size 1000x600 with 1 Axes>"
      ]
     },
     "metadata": {},
     "output_type": "display_data"
    }
   ],
   "source": [
    "# Histogram of Price in final_table\n",
    "plt.figure(figsize=(10, 6))\n",
    "sns.histplot(data=final_table, x='Price', bins=20, kde=True)\n",
    "plt.title('Distribution of Price in final_table')\n",
    "plt.xlabel('Price')\n",
    "plt.ylabel('Frequency')\n",
    "plt.show()"
   ]
  },
  {
   "cell_type": "code",
   "execution_count": 86,
   "id": "c2afa062",
   "metadata": {},
   "outputs": [
    {
     "data": {
      "image/png": "[encoded data removed]",
      "text/plain": [
       "<Figure size 1000x600 with 1 Axes>"
      ]
     },
     "metadata": {},
     "output_type": "display_data"
    }
   ],
   "source": [
    "# Box plot of Reviews in final_table\n",
    "plt.figure(figsize=(10, 6))\n",
    "sns.boxplot(data=final_table, x='Reviews')\n",
    "plt.title('Distribution of Reviews in final_table')\n",
    "plt.xlabel('Reviews')\n",
    "plt.show()"
   ]
  },
  {
   "cell_type": "code",
   "execution_count": 87,
   "id": "98749832",
   "metadata": {},
   "outputs": [
    {
     "data": {
      "image/png": "[encoded data removed]",
      "text/plain": [
       "<Figure size 1200x600 with 1 Axes>"
      ]
     },
     "metadata": {},
     "output_type": "display_data"
    }
   ],
   "source": [
    "# Scatter plot of ReturnTime vs Sl_No in final_table\n",
    "plt.figure(figsize=(12, 6))\n",
    "sns.countplot(data=final_table, x='Occasion')\n",
    "plt.title('Count of Occasions')\n",
    "plt.xlabel('Occasion')\n",
    "plt.ylabel('Count')\n",
    "plt.xticks(rotation=45)\n",
    "plt.show()"
   ]
  },
  {
   "cell_type": "code",
   "execution_count": 88,
   "id": "36920d57",
   "metadata": {},
   "outputs": [
    {
     "name": "stderr",
     "output_type": "stream",
     "text": [
      "C:\\Users\\User\\AppData\\Local\\Temp\\ipykernel_16312\\1244755653.py:1: FutureWarning: The default value of numeric_only in DataFrame.corr is deprecated. In a future version, it will default to False. Select only valid columns or specify the value of numeric_only to silence this warning.\n",
      "  correlation_matrix = final_table.corr()\n"
     ]
    },
    {
     "data": {
      "image/png": "[encoded data removed]",
      "text/plain": [
       "<Figure size 1000x800 with 2 Axes>"
      ]
     },
     "metadata": {},
     "output_type": "display_data"
    }
   ],
   "source": [
    "correlation_matrix = final_table.corr()\n",
    "plt.figure(figsize=(10, 8))\n",
    "sns.heatmap(correlation_matrix, annot=True, cmap='coolwarm', fmt=\".2f\")\n",
    "plt.title('Correlation Matrix')\n",
    "plt.show()"
   ]
  },
  {
   "cell_type": "markdown",
   "id": "5618a456",
   "metadata": {},
   "source": [
    "# Phase 4"
   ]
  },
  {
   "cell_type": "markdown",
   "id": "9814253c",
   "metadata": {},
   "source": [
    "# Model Buiding"
   ]
  },
  {
   "cell_type": "code",
   "execution_count": 31,
   "id": "8a46f3f6",
   "metadata": {},
   "outputs": [],
   "source": [
    "# Data Preparation\n",
    "X_price = final_table.drop(['Price'], axis=1)  # Features for price prediction\n",
    "y_price = final_table['Price']  # Target variable for price prediction\n",
    "X_occasion = final_table.drop(['Occasion'], axis=1)  # Features for occasion prediction\n",
    "y_occasion = final_table['Occasion']  # Target variable for occasion prediction\n"
   ]
  },
  {
   "cell_type": "code",
   "execution_count": 32,
   "id": "97a95bd4",
   "metadata": {},
   "outputs": [],
   "source": [
    "# Encode categorical variables\n",
    "encoder = LabelEncoder()\n",
    "X_price_encoded = X_price.apply(encoder.fit_transform)\n",
    "X_occasion_encoded = X_occasion.apply(encoder.fit_transform)"
   ]
  },
  {
   "cell_type": "code",
   "execution_count": 33,
   "id": "8086f4a7",
   "metadata": {},
   "outputs": [],
   "source": [
    "# Split data into training and testing sets\n",
    "X_train_price, X_test_price, y_train_price, y_test_price = train_test_split(X_price_encoded, y_price, test_size=0.2, random_state=42)\n",
    "X_train_occasion, X_test_occasion, y_train_occasion, y_test_occasion = train_test_split(X_occasion_encoded, y_occasion, test_size=0.2, random_state=42)\n"
   ]
  },
  {
   "cell_type": "code",
   "execution_count": 35,
   "id": "3d3fdba3",
   "metadata": {},
   "outputs": [],
   "source": [
    "# Define preprocessing steps (scaling numerical features)\n",
    "numeric_features = X_train_price.select_dtypes(include=['int64']).columns.tolist()\n",
    "numeric_transformer = Pipeline(steps=[('scaler', StandardScaler())])\n",
    "preprocessor = ColumnTransformer(transformers=[('num', numeric_transformer, numeric_features)])\n"
   ]
  },
  {
   "cell_type": "markdown",
   "id": "f60ad19c",
   "metadata": {},
   "source": [
    "# Build and evaluate models"
   ]
  },
  {
   "cell_type": "code",
   "execution_count": 43,
   "id": "54773060",
   "metadata": {},
   "outputs": [],
   "source": [
    "# For price prediction\n",
    "pipe_price = Pipeline(steps=[('preprocessor', preprocessor),\n",
    "                              ('model', RandomForestRegressor())])\n",
    "\n",
    "# For occasion prediction\n",
    "pipe_occasion = Pipeline(steps=[('preprocessor', preprocessor),\n",
    "                                 ('Random Forest', RandomForestClassifier())])"
   ]
  },
  {
   "cell_type": "code",
   "execution_count": 44,
   "id": "4464d1b1",
   "metadata": {},
   "outputs": [],
   "source": [
    "param_grid_price = {\n",
    "    'model__n_estimators': [100, 200, 300],  \n",
    "    'model__max_depth': [None, 10, 20]\n",
    "}\n",
    "\n"
   ]
  },
  {
   "cell_type": "code",
   "execution_count": 50,
   "id": "72c66d6e",
   "metadata": {},
   "outputs": [],
   "source": [
    "param_grid_occasion = {\n",
    "    'model__n_estimators': [100, 200, 300],\n",
    "    'model__max_depth': [None, 10, 20]\n",
    "}"
   ]
  },
  {
   "cell_type": "code",
   "execution_count": 46,
   "id": "01b38868",
   "metadata": {},
   "outputs": [],
   "source": [
    "price_models = {'Linear Regression': LinearRegression(), 'Random Forest': RandomForestRegressor()}\n"
   ]
  },
  {
   "cell_type": "code",
   "execution_count": 47,
   "id": "ecfa5a87",
   "metadata": {},
   "outputs": [
    {
     "name": "stdout",
     "output_type": "stream",
     "text": [
      "Random Forest: MAE = 592.6181021194606\n"
     ]
    }
   ],
   "source": [
    "for model_name, model in price_models.items():\n",
    "    if model_name == 'Random Forest':\n",
    "        pipe_price = Pipeline(steps=[('preprocessor', preprocessor),\n",
    "                                     ('model', model)])\n",
    "        grid_search_price = GridSearchCV(pipe_price, param_grid=param_grid_price, scoring='neg_mean_absolute_error', cv=5)\n",
    "        grid_search_price.fit(X_train_price, y_train_price)\n",
    "        y_pred_price = grid_search_price.predict(X_test_price)\n",
    "        print(f\"{model_name}: MAE = {mean_absolute_error(y_test_price, y_pred_price)}\")"
   ]
  },
  {
   "cell_type": "code",
   "execution_count": 51,
   "id": "38733b6f",
   "metadata": {},
   "outputs": [
    {
     "name": "stderr",
     "output_type": "stream",
     "text": [
      "C:\\Users\\User\\anaconda3.1\\Lib\\site-packages\\sklearn\\model_selection\\_split.py:700: UserWarning: The least populated class in y has only 1 members, which is less than n_splits=5.\n",
      "  warnings.warn(\n"
     ]
    },
    {
     "name": "stdout",
     "output_type": "stream",
     "text": [
      "Random Forest: Accuracy = 0.9210019267822736\n"
     ]
    }
   ],
   "source": [
    " if model_name == 'Random Forest':\n",
    "        pipe_occasion = Pipeline(steps=[('preprocessor', preprocessor),\n",
    "                                        ('model', model)])\n",
    "        grid_search_occasion = GridSearchCV(pipe_occasion, param_grid=param_grid_occasion, scoring='accuracy', cv=5)\n",
    "        grid_search_occasion.fit(X_train_occasion, y_train_occasion)\n",
    "        y_pred_occasion = grid_search_occasion.predict(X_test_occasion)\n",
    "        print(f\"{model_name}: Accuracy = {accuracy_score(y_test_occasion, y_pred_occasion)}\")"
   ]
  },
  {
   "cell_type": "code",
   "execution_count": 53,
   "id": "5547440b",
   "metadata": {},
   "outputs": [
    {
     "name": "stderr",
     "output_type": "stream",
     "text": [
      "C:\\Users\\User\\anaconda3.1\\Lib\\site-packages\\sklearn\\metrics\\_classification.py:1344: UndefinedMetricWarning: Precision is ill-defined and being set to 0.0 in labels with no predicted samples. Use `zero_division` parameter to control this behavior.\n",
      "  _warn_prf(average, modifier, msg_start, len(result))\n"
     ]
    }
   ],
   "source": [
    "# Calculate precision\n",
    "precision = precision_score(y_test_occasion, y_pred_occasion, average='weighted')\n"
   ]
  },
  {
   "cell_type": "code",
   "execution_count": 54,
   "id": "64781ad3",
   "metadata": {},
   "outputs": [],
   "source": [
    "# Calculate recall\n",
    "recall = recall_score(y_test_occasion, y_pred_occasion, average='weighted')\n"
   ]
  },
  {
   "cell_type": "code",
   "execution_count": 55,
   "id": "80289ddd",
   "metadata": {},
   "outputs": [],
   "source": [
    "# Calculate F1-score\n",
    "f1 = f1_score(y_test_occasion, y_pred_occasion, average='weighted')\n"
   ]
  },
  {
   "cell_type": "code",
   "execution_count": 56,
   "id": "17e17844",
   "metadata": {},
   "outputs": [
    {
     "name": "stdout",
     "output_type": "stream",
     "text": [
      "Precision: 0.9149099769289688\n",
      "Recall: 0.9210019267822736\n",
      "F1-score: 0.9166208142992717\n",
      "Confusion Matrix:\n",
      "[[  0   0   0   1   0   0   0   0]\n",
      " [  0   2   0   1   1   0   0   0]\n",
      " [  0   0 174   4   0   0   0   0]\n",
      " [  0   1   0 678  25   0   0   1]\n",
      " [  0   1   0  35  98   0   0   0]\n",
      " [  0   0   0   3   0   0   0   0]\n",
      " [  0   0   0   1   0   0   0   0]\n",
      " [  0   0   0   4   4   0   0   4]]\n"
     ]
    }
   ],
   "source": [
    "\n",
    "# Calculate confusion matrix\n",
    "conf_matrix = confusion_matrix(y_test_occasion, y_pred_occasion)\n",
    "\n",
    "print(f\"Precision: {precision}\")\n",
    "print(f\"Recall: {recall}\")\n",
    "print(f\"F1-score: {f1}\")\n",
    "print(\"Confusion Matrix:\")\n",
    "print(conf_matrix)"
   ]
  },
  {
   "cell_type": "code",
   "execution_count": 58,
   "id": "961340cc",
   "metadata": {},
   "outputs": [
    {
     "data": {
      "text/html": [
       "<style>#sk-container-id-1 {color: black;background-color: white;}#sk-container-id-1 pre{padding: 0;}#sk-container-id-1 div.sk-toggleable {background-color: white;}#sk-container-id-1 label.sk-toggleable__label {cursor: pointer;display: block;width: 100%;margin-bottom: 0;padding: 0.3em;box-sizing: border-box;text-align: center;}#sk-container-id-1 label.sk-toggleable__label-arrow:before {content: \"▸\";float: left;margin-right: 0.25em;color: #696969;}#sk-container-id-1 label.sk-toggleable__label-arrow:hover:before {color: black;}#sk-container-id-1 div.sk-estimator:hover label.sk-toggleable__label-arrow:before {color: black;}#sk-container-id-1 div.sk-toggleable__content {max-height: 0;max-width: 0;overflow: hidden;text-align: left;background-color: #f0f8ff;}#sk-container-id-1 div.sk-toggleable__content pre {margin: 0.2em;color: black;border-radius: 0.25em;background-color: #f0f8ff;}#sk-container-id-1 input.sk-toggleable__control:checked~div.sk-toggleable__content {max-height: 200px;max-width: 100%;overflow: auto;}#sk-container-id-1 input.sk-toggleable__control:checked~label.sk-toggleable__label-arrow:before {content: \"▾\";}#sk-container-id-1 div.sk-estimator input.sk-toggleable__control:checked~label.sk-toggleable__label {background-color: #d4ebff;}#sk-container-id-1 div.sk-label input.sk-toggleable__control:checked~label.sk-toggleable__label {background-color: #d4ebff;}#sk-container-id-1 input.sk-hidden--visually {border: 0;clip: rect(1px 1px 1px 1px);clip: rect(1px, 1px, 1px, 1px);height: 1px;margin: -1px;overflow: hidden;padding: 0;position: absolute;width: 1px;}#sk-container-id-1 div.sk-estimator {font-family: monospace;background-color: #f0f8ff;border: 1px dotted black;border-radius: 0.25em;box-sizing: border-box;margin-bottom: 0.5em;}#sk-container-id-1 div.sk-estimator:hover {background-color: #d4ebff;}#sk-container-id-1 div.sk-parallel-item::after {content: \"\";width: 100%;border-bottom: 1px solid gray;flex-grow: 1;}#sk-container-id-1 div.sk-label:hover label.sk-toggleable__label {background-color: #d4ebff;}#sk-container-id-1 div.sk-serial::before {content: \"\";position: absolute;border-left: 1px solid gray;box-sizing: border-box;top: 0;bottom: 0;left: 50%;z-index: 0;}#sk-container-id-1 div.sk-serial {display: flex;flex-direction: column;align-items: center;background-color: white;padding-right: 0.2em;padding-left: 0.2em;position: relative;}#sk-container-id-1 div.sk-item {position: relative;z-index: 1;}#sk-container-id-1 div.sk-parallel {display: flex;align-items: stretch;justify-content: center;background-color: white;position: relative;}#sk-container-id-1 div.sk-item::before, #sk-container-id-1 div.sk-parallel-item::before {content: \"\";position: absolute;border-left: 1px solid gray;box-sizing: border-box;top: 0;bottom: 0;left: 50%;z-index: -1;}#sk-container-id-1 div.sk-parallel-item {display: flex;flex-direction: column;z-index: 1;position: relative;background-color: white;}#sk-container-id-1 div.sk-parallel-item:first-child::after {align-self: flex-end;width: 50%;}#sk-container-id-1 div.sk-parallel-item:last-child::after {align-self: flex-start;width: 50%;}#sk-container-id-1 div.sk-parallel-item:only-child::after {width: 0;}#sk-container-id-1 div.sk-dashed-wrapped {border: 1px dashed gray;margin: 0 0.4em 0.5em 0.4em;box-sizing: border-box;padding-bottom: 0.4em;background-color: white;}#sk-container-id-1 div.sk-label label {font-family: monospace;font-weight: bold;display: inline-block;line-height: 1.2em;}#sk-container-id-1 div.sk-label-container {text-align: center;}#sk-container-id-1 div.sk-container {/* jupyter's `normalize.less` sets `[hidden] { display: none; }` but bootstrap.min.css set `[hidden] { display: none !important; }` so we also need the `!important` here to be able to override the default hidden behavior on the sphinx rendered scikit-learn.org. See: https://github.com/scikit-learn/scikit-learn/issues/21755 */display: inline-block !important;position: relative;}#sk-container-id-1 div.sk-text-repr-fallback {display: none;}</style><div id=\"sk-container-id-1\" class=\"sk-top-container\"><div class=\"sk-text-repr-fallback\"><pre>RandomForestClassifier()</pre><b>In a Jupyter environment, please rerun this cell to show the HTML representation or trust the notebook. <br />On GitHub, the HTML representation is unable to render, please try loading this page with nbviewer.org.</b></div><div class=\"sk-container\" hidden><div class=\"sk-item\"><div class=\"sk-estimator sk-toggleable\"><input class=\"sk-toggleable__control sk-hidden--visually\" id=\"sk-estimator-id-1\" type=\"checkbox\" checked><label for=\"sk-estimator-id-1\" class=\"sk-toggleable__label sk-toggleable__label-arrow\">RandomForestClassifier</label><div class=\"sk-toggleable__content\"><pre>RandomForestClassifier()</pre></div></div></div></div></div>"
      ],
      "text/plain": [
       "RandomForestClassifier()"
      ]
     },
     "execution_count": 58,
     "metadata": {},
     "output_type": "execute_result"
    }
   ],
   "source": [
    "# Fit the Random Forest model to the training data\n",
    "model.fit(X_train_occasion, y_train_occasion)"
   ]
  },
  {
   "cell_type": "code",
   "execution_count": 59,
   "id": "29132f6d",
   "metadata": {},
   "outputs": [],
   "source": [
    "# Now you can access the feature importances\n",
    "feature_importance = model.feature_importances_"
   ]
  },
  {
   "cell_type": "code",
   "execution_count": 60,
   "id": "516b84c1",
   "metadata": {},
   "outputs": [
    {
     "data": {
      "text/html": [
       "<style>#sk-container-id-2 {color: black;background-color: white;}#sk-container-id-2 pre{padding: 0;}#sk-container-id-2 div.sk-toggleable {background-color: white;}#sk-container-id-2 label.sk-toggleable__label {cursor: pointer;display: block;width: 100%;margin-bottom: 0;padding: 0.3em;box-sizing: border-box;text-align: center;}#sk-container-id-2 label.sk-toggleable__label-arrow:before {content: \"▸\";float: left;margin-right: 0.25em;color: #696969;}#sk-container-id-2 label.sk-toggleable__label-arrow:hover:before {color: black;}#sk-container-id-2 div.sk-estimator:hover label.sk-toggleable__label-arrow:before {color: black;}#sk-container-id-2 div.sk-toggleable__content {max-height: 0;max-width: 0;overflow: hidden;text-align: left;background-color: #f0f8ff;}#sk-container-id-2 div.sk-toggleable__content pre {margin: 0.2em;color: black;border-radius: 0.25em;background-color: #f0f8ff;}#sk-container-id-2 input.sk-toggleable__control:checked~div.sk-toggleable__content {max-height: 200px;max-width: 100%;overflow: auto;}#sk-container-id-2 input.sk-toggleable__control:checked~label.sk-toggleable__label-arrow:before {content: \"▾\";}#sk-container-id-2 div.sk-estimator input.sk-toggleable__control:checked~label.sk-toggleable__label {background-color: #d4ebff;}#sk-container-id-2 div.sk-label input.sk-toggleable__control:checked~label.sk-toggleable__label {background-color: #d4ebff;}#sk-container-id-2 input.sk-hidden--visually {border: 0;clip: rect(1px 1px 1px 1px);clip: rect(1px, 1px, 1px, 1px);height: 1px;margin: -1px;overflow: hidden;padding: 0;position: absolute;width: 1px;}#sk-container-id-2 div.sk-estimator {font-family: monospace;background-color: #f0f8ff;border: 1px dotted black;border-radius: 0.25em;box-sizing: border-box;margin-bottom: 0.5em;}#sk-container-id-2 div.sk-estimator:hover {background-color: #d4ebff;}#sk-container-id-2 div.sk-parallel-item::after {content: \"\";width: 100%;border-bottom: 1px solid gray;flex-grow: 1;}#sk-container-id-2 div.sk-label:hover label.sk-toggleable__label {background-color: #d4ebff;}#sk-container-id-2 div.sk-serial::before {content: \"\";position: absolute;border-left: 1px solid gray;box-sizing: border-box;top: 0;bottom: 0;left: 50%;z-index: 0;}#sk-container-id-2 div.sk-serial {display: flex;flex-direction: column;align-items: center;background-color: white;padding-right: 0.2em;padding-left: 0.2em;position: relative;}#sk-container-id-2 div.sk-item {position: relative;z-index: 1;}#sk-container-id-2 div.sk-parallel {display: flex;align-items: stretch;justify-content: center;background-color: white;position: relative;}#sk-container-id-2 div.sk-item::before, #sk-container-id-2 div.sk-parallel-item::before {content: \"\";position: absolute;border-left: 1px solid gray;box-sizing: border-box;top: 0;bottom: 0;left: 50%;z-index: -1;}#sk-container-id-2 div.sk-parallel-item {display: flex;flex-direction: column;z-index: 1;position: relative;background-color: white;}#sk-container-id-2 div.sk-parallel-item:first-child::after {align-self: flex-end;width: 50%;}#sk-container-id-2 div.sk-parallel-item:last-child::after {align-self: flex-start;width: 50%;}#sk-container-id-2 div.sk-parallel-item:only-child::after {width: 0;}#sk-container-id-2 div.sk-dashed-wrapped {border: 1px dashed gray;margin: 0 0.4em 0.5em 0.4em;box-sizing: border-box;padding-bottom: 0.4em;background-color: white;}#sk-container-id-2 div.sk-label label {font-family: monospace;font-weight: bold;display: inline-block;line-height: 1.2em;}#sk-container-id-2 div.sk-label-container {text-align: center;}#sk-container-id-2 div.sk-container {/* jupyter's `normalize.less` sets `[hidden] { display: none; }` but bootstrap.min.css set `[hidden] { display: none !important; }` so we also need the `!important` here to be able to override the default hidden behavior on the sphinx rendered scikit-learn.org. See: https://github.com/scikit-learn/scikit-learn/issues/21755 */display: inline-block !important;position: relative;}#sk-container-id-2 div.sk-text-repr-fallback {display: none;}</style><div id=\"sk-container-id-2\" class=\"sk-top-container\"><div class=\"sk-text-repr-fallback\"><pre>RandomForestClassifier()</pre><b>In a Jupyter environment, please rerun this cell to show the HTML representation or trust the notebook. <br />On GitHub, the HTML representation is unable to render, please try loading this page with nbviewer.org.</b></div><div class=\"sk-container\" hidden><div class=\"sk-item\"><div class=\"sk-estimator sk-toggleable\"><input class=\"sk-toggleable__control sk-hidden--visually\" id=\"sk-estimator-id-2\" type=\"checkbox\" checked><label for=\"sk-estimator-id-2\" class=\"sk-toggleable__label sk-toggleable__label-arrow\">RandomForestClassifier</label><div class=\"sk-toggleable__content\"><pre>RandomForestClassifier()</pre></div></div></div></div></div>"
      ],
      "text/plain": [
       "RandomForestClassifier()"
      ]
     },
     "execution_count": 60,
     "metadata": {},
     "output_type": "execute_result"
    }
   ],
   "source": [
    "# Fit the Random Forest model to the training data\n",
    "model.fit(X_train_price, y_train_price)"
   ]
  },
  {
   "cell_type": "code",
   "execution_count": 61,
   "id": "7e7984f9",
   "metadata": {},
   "outputs": [],
   "source": [
    "# Now you can access the feature importances\n",
    "feature_importance = model.feature_importances_"
   ]
  },
  {
   "cell_type": "code",
   "execution_count": 63,
   "id": "665c6b37",
   "metadata": {},
   "outputs": [],
   "source": [
    "# Assuming 'feature_names' contains the names of the features\n",
    "feature_names = X_train_occasion.columns"
   ]
  },
  {
   "cell_type": "code",
   "execution_count": 64,
   "id": "9ba3bd50",
   "metadata": {},
   "outputs": [],
   "source": [
    "# Create a DataFrame to display feature importances\n",
    "feature_importance_df = pd.DataFrame({'Feature': feature_names, 'Importance': feature_importance})\n",
    "feature_importance_df = feature_importance_df.sort_values(by='Importance', ascending=False)\n"
   ]
  },
  {
   "cell_type": "code",
   "execution_count": 65,
   "id": "aad16e8c",
   "metadata": {},
   "outputs": [
    {
     "data": {
      "image/png": "[encoded data removed]",
      "text/plain": [
       "<Figure size 1000x600 with 1 Axes>"
      ]
     },
     "metadata": {},
     "output_type": "display_data"
    }
   ],
   "source": [
    "# Plot feature importances\n",
    "plt.figure(figsize=(10, 6))\n",
    "sns.barplot(x='Importance', y='Feature', data=feature_importance_df)\n",
    "plt.title('Feature Importance')\n",
    "plt.xlabel('Importance')\n",
    "plt.ylabel('Feature')\n",
    "plt.show()"
   ]
  },
  {
   "cell_type": "code",
   "execution_count": 66,
   "id": "fd2844e1",
   "metadata": {},
   "outputs": [],
   "source": [
    "best_model_price = grid_search_price.best_estimator_\n",
    "best_model_occasion = grid_search_occasion.best_estimator_"
   ]
  },
  {
   "cell_type": "code",
   "execution_count": 68,
   "id": "7c63f8f3",
   "metadata": {},
   "outputs": [
    {
     "data": {
      "text/plain": [
       "['best_model_price.pkl']"
      ]
     },
     "execution_count": 68,
     "metadata": {},
     "output_type": "execute_result"
    }
   ],
   "source": [
    "joblib.dump(best_model_price, 'best_model_price.pkl')\n"
   ]
  },
  {
   "cell_type": "code",
   "execution_count": 69,
   "id": "7c814673",
   "metadata": {},
   "outputs": [
    {
     "data": {
      "text/plain": [
       "['best_model_occasion.pkl']"
      ]
     },
     "execution_count": 69,
     "metadata": {},
     "output_type": "execute_result"
    }
   ],
   "source": [
    "joblib.dump(best_model_occasion, 'best_model_occasion.pkl')"
   ]
  },
  {
   "cell_type": "code",
   "execution_count": 70,
   "id": "f4cd05e1",
   "metadata": {},
   "outputs": [
    {
     "name": "stdout",
     "output_type": "stream",
     "text": [
      "Price Prediction Model:\n",
      "- Chosen based on negative mean absolute error: -603.7880343197096\n",
      "- Best hyperparameters: {'model__max_depth': None, 'model__n_estimators': 300}\n"
     ]
    }
   ],
   "source": [
    "# Convey the basis for choosing the best models\n",
    "print(\"Price Prediction Model:\")\n",
    "print(f\"- Chosen based on negative mean absolute error: {grid_search_price.best_score_}\")\n",
    "print(f\"- Best hyperparameters: {grid_search_price.best_params_}\")\n"
   ]
  },
  {
   "cell_type": "code",
   "execution_count": 71,
   "id": "4b71b673",
   "metadata": {},
   "outputs": [
    {
     "name": "stdout",
     "output_type": "stream",
     "text": [
      "\n",
      "Occasion Prediction Model:\n",
      "- Chosen based on accuracy: 0.9176144288344714\n",
      "- Best hyperparameters: {'model__max_depth': 10, 'model__n_estimators': 300}\n"
     ]
    }
   ],
   "source": [
    "print(\"\\nOccasion Prediction Model:\")\n",
    "print(f\"- Chosen based on accuracy: {grid_search_occasion.best_score_}\")\n",
    "print(f\"- Best hyperparameters: {grid_search_occasion.best_params_}\")"
   ]
  },
  {
   "cell_type": "markdown",
   "id": "e4aee03f",
   "metadata": {},
   "source": [
    "best_estimator_ attribute of GridSearchCV returns the best model.\n",
    "The joblib.dump() function is used to save the best models to files.\n",
    "The basis for choosing the best models is conveyed using best_score_ attribute of GridSearchCV and the best_params_ attribute to display the best hyperparameters."
   ]
  },
  {
   "cell_type": "code",
   "execution_count": null,
   "id": "942044d9",
   "metadata": {},
   "outputs": [],
   "source": []
  }
 ],
 "metadata": {
  "kernelspec": {
   "display_name": "Python 3 (ipykernel)",
   "language": "python",
   "name": "python3"
  },
  "language_info": {
   "codemirror_mode": {
    "name": "ipython",
    "version": 3
   },
   "file_extension": ".py",
   "mimetype": "text/x-python",
   "name": "python",
   "nbconvert_exporter": "python",
   "pygments_lexer": "ipython3",
   "version": "3.11.3"
  }
 },
 "nbformat": 4,
 "nbformat_minor": 5
}
